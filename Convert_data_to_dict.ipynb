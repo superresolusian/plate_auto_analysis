{
 "cells": [
  {
   "cell_type": "markdown",
   "metadata": {},
   "source": [
    "## Import"
   ]
  },
  {
   "cell_type": "code",
   "execution_count": 240,
   "metadata": {},
   "outputs": [],
   "source": [
    "import pandas as pd\n",
    "import xlrd\n",
    "import numpy as np\n",
    "import matplotlib.pyplot as plt\n",
    "import csv\n",
    "import seaborn as sns"
   ]
  },
  {
   "cell_type": "markdown",
   "metadata": {},
   "source": [
    "## File name and experiment set-up"
   ]
  },
  {
   "cell_type": "code",
   "execution_count": 2,
   "metadata": {
    "scrolled": true
   },
   "outputs": [],
   "source": [
    "infected_file = r'data\\MOI 0.01 drug screen 2.xlsx'\n",
    "uninfected_file = r'data\\Uninfected nCoV drug screen 2.xlsx'\n",
    "n_plates = 7\n",
    "n_columns = 12\n",
    "n_repeats = 3\n",
    "n_concentrations = 8\n",
    "start_concentration = 50"
   ]
  },
  {
   "cell_type": "markdown",
   "metadata": {},
   "source": [
    "## Names of compounds"
   ]
  },
  {
   "cell_type": "code",
   "execution_count": 61,
   "metadata": {},
   "outputs": [],
   "source": [
    "plate = {} # <--- don't change this line!\n",
    "# format is plate[number]= ['Compound1', 'Compound2', 'Compound 3']\n",
    "# e.g. plate[1] = ['FD', 'BM', 'AH']\n",
    "# don't worry about dmso, that's already taken care of :)\n",
    "plate[1] = ['FD', 'BM', 'AH']\n",
    "plate[2] = ['CH', 'TC', 'AD']\n",
    "plate[3] = ['TM', 'MH', 'T']\n",
    "plate[4] = ['TV', 'A', 'GH']\n",
    "plate[5] = ['IM', 'F', 'CH']\n",
    "plate[6] = ['HS', 'PH', 'ED']\n",
    "plate[7] = ['CP', 'TaC', 'H2O']\n",
    "#\n",
    "plate_names = plate"
   ]
  },
  {
   "cell_type": "markdown",
   "metadata": {},
   "source": [
    "## Prepare array of concentrations"
   ]
  },
  {
   "cell_type": "code",
   "execution_count": 17,
   "metadata": {},
   "outputs": [],
   "source": [
    "concentrations = []\n",
    "concentrations.append(start_concentration)\n",
    "for i in range(1, n_concentrations):\n",
    "    concentrations.append(concentrations[i-1]/2)"
   ]
  },
  {
   "cell_type": "markdown",
   "metadata": {},
   "source": [
    "## Function to read data from excel file into nice dictionary of dataframes"
   ]
  },
  {
   "cell_type": "code",
   "execution_count": 19,
   "metadata": {},
   "outputs": [],
   "source": [
    "def get_dict_from_excel(filename, n_plates, n_columns, infected=True):\n",
    "    \n",
    "    if not infected:\n",
    "        _n_plates = n_plates+1\n",
    "    else:\n",
    "        _n_plates = n_plates\n",
    "    \n",
    "    start_identifier = 'Plate:'\n",
    "    end_identifier = '~End'\n",
    "    \n",
    "    book = xlrd.open_workbook(filename=filename)\n",
    "    sheet = book.sheet_by_index(0)\n",
    "    row_titles = sheet.col_values(0)\n",
    "    \n",
    "    start_indices = []\n",
    "    end_indices = []\n",
    "    \n",
    "    for i in range(len(row_titles)):\n",
    "        row_title = row_titles[i]\n",
    "        if row_title==start_identifier:\n",
    "            start_indices.append(i)\n",
    "        elif row_title==end_identifier:\n",
    "            end_indices.append(i)\n",
    "    \n",
    "    data = {}\n",
    "    \n",
    "    for plate in range(_n_plates):\n",
    "        \n",
    "        vals = []\n",
    "        start = start_indices[plate]+2\n",
    "        end = end_indices[plate]-1\n",
    "        \n",
    "        for col in range(2, 2+n_columns):\n",
    "            cells = sheet.col_slice(col, start, end)\n",
    "            for cell in cells:\n",
    "                vals.append(cell.value)\n",
    "        \n",
    "        vals = np.reshape(vals, (n_columns, end-start)).T\n",
    "        df = pd.DataFrame(data=vals)\n",
    "        \n",
    "        for i in range(n_concentrations):\n",
    "            df.rename(index={i:concentrations[i]}, inplace=True)\n",
    "           \n",
    "        if not infected:\n",
    "            _plate = plate\n",
    "        else:\n",
    "            _plate = plate+1\n",
    "        \n",
    "        data[f'Plate {_plate}'] = df\n",
    "        \n",
    "    return data"
   ]
  },
  {
   "cell_type": "markdown",
   "metadata": {},
   "source": [
    "## Function to do triplicate averaging"
   ]
  },
  {
   "cell_type": "code",
   "execution_count": 26,
   "metadata": {},
   "outputs": [],
   "source": [
    "def do_triplicate_averaging(data, n_columns, n_repeats, n_plates, infected=True):\n",
    "    \n",
    "    if not infected:\n",
    "        _n_plates = n_plates+1\n",
    "    else:\n",
    "        _n_plates = n_plates\n",
    "    \n",
    "    data_averaged = {}\n",
    "    \n",
    "    n_samples = int(n_columns/n_repeats)\n",
    "    \n",
    "    for plate in range(_n_plates):\n",
    "        df = pd.DataFrame()\n",
    "        \n",
    "        if not infected:\n",
    "            _plate = plate\n",
    "        else:\n",
    "            _plate = plate+1\n",
    "        \n",
    "        for n in range(n_samples):\n",
    "            i = n*n_repeats\n",
    "            j = (n+1)*n_repeats-1\n",
    "            \n",
    "            av_col = data[f'Plate {_plate}'].loc[:,i:j].T.mean()\n",
    "            df[n] = av_col\n",
    "        \n",
    "        data_averaged[f'Plate {_plate}'] = df\n",
    "    \n",
    "    return data_averaged"
   ]
  },
  {
   "cell_type": "markdown",
   "metadata": {},
   "source": [
    "## DMSO normalisations"
   ]
  },
  {
   "cell_type": "code",
   "execution_count": 48,
   "metadata": {},
   "outputs": [],
   "source": [
    "def divide_by_dmso(data_averaged, n_plates, infected=True):\n",
    "    \n",
    "    if not infected:\n",
    "        _n_plates = n_plates+1\n",
    "    else:\n",
    "        _n_plates = n_plates\n",
    "    \n",
    "    data_dmso_norm = {}\n",
    "\n",
    "    for plate in range(_n_plates):\n",
    "        \n",
    "        if not infected:\n",
    "            _plate = plate\n",
    "        else:\n",
    "            _plate = plate+1\n",
    "        \n",
    "        df = data_averaged[f'Plate {_plate}']\n",
    "        data_dmso_norm[f'Plate {_plate}'] = df.iloc[:,:].div(df[3], axis=0)\n",
    "        \n",
    "    return data_dmso_norm\n",
    "\n",
    "def subtract_by_dmso(data_averaged, n_plates, infected=True):\n",
    "    \n",
    "    if not infected:\n",
    "        _n_plates = n_plates+1\n",
    "    else:\n",
    "        _n_plates = n_plates\n",
    "    \n",
    "    data_dmso_norm = {}\n",
    "\n",
    "    for plate in range(_n_plates):\n",
    "        \n",
    "        if not infected:\n",
    "            _plate = plate\n",
    "        else:\n",
    "            _plate = plate+1\n",
    "        \n",
    "        df = data_averaged[f'Plate {_plate}']\n",
    "        data_dmso_norm[f'Plate {_plate}'] = df.iloc[:,:].subtract(df[3], axis=0)\n",
    "        \n",
    "    return data_dmso_norm"
   ]
  },
  {
   "cell_type": "markdown",
   "metadata": {},
   "source": [
    "## Export as csv"
   ]
  },
  {
   "cell_type": "code",
   "execution_count": 104,
   "metadata": {},
   "outputs": [],
   "source": [
    "def write_plate_to_csv(save_path, plate_ind, inf_data, uninf_data, plate_names):\n",
    "    \n",
    "    headers = ['Concentration (uM)']\n",
    "    for name in plate_names[plate_ind]:\n",
    "        headers.append(name)\n",
    "        \n",
    "    this_inf = np.asarray(inf_data[f'Plate {plate_ind}'])\n",
    "    this_uninf = np.asarray(uninf_data[f'Plate {plate_ind}'])\n",
    "    \n",
    "    n_rows = this_inf.shape[0]\n",
    "    \n",
    "    with open(f'.\\{save_path}\\Plate_{plate_ind}_inf.csv', 'w') as csvfile:\n",
    "        csvwriter = csv.writer(csvfile, delimiter=',')\n",
    "        csvwriter.writerow(headers)\n",
    "        \n",
    "        for n in range(n_rows):\n",
    "            row = this_inf[n, 0:3]\n",
    "            row = np.insert(row, 0, concentrations[n])\n",
    "            csvwriter.writerow(row)\n",
    "            \n",
    "    with open(f'.\\{save_path}\\Plate_{plate_ind}_uninf.csv', 'w') as csvfile:\n",
    "        csvwriter = csv.writer(csvfile, delimiter=',')\n",
    "        csvwriter.writerow(headers)\n",
    "        \n",
    "        for n in range(n_rows):\n",
    "            row = this_uninf[n, 0:3]\n",
    "            row = np.insert(row, 0, concentrations[n])\n",
    "            csvwriter.writerow(row)\n",
    "    "
   ]
  },
  {
   "cell_type": "code",
   "execution_count": 105,
   "metadata": {},
   "outputs": [],
   "source": [
    "for i in range(n_plates):\n",
    "    _plate = i+1\n",
    "\n",
    "    write_plate_to_csv('out', _plate, inf_data_dmso_div, uninf_data_dmso_div, plate_names)"
   ]
  },
  {
   "cell_type": "markdown",
   "metadata": {},
   "source": [
    "## Functions for toxicity and inhibition calculation"
   ]
  },
  {
   "cell_type": "code",
   "execution_count": 184,
   "metadata": {},
   "outputs": [],
   "source": [
    "def get_toxicity(drug, cell, blank=0):\n",
    "    \n",
    "    _drug = np.subtract(drug, blank)\n",
    "    _cell = np.subtract(cell, blank)\n",
    "\n",
    "    tox = 1 - np.divide(_drug, _cell)\n",
    "    \n",
    "    return tox*100"
   ]
  },
  {
   "cell_type": "code",
   "execution_count": 194,
   "metadata": {},
   "outputs": [],
   "source": [
    "def get_inhibition(drug, cell, vehicle_drug, vehicle_cell):\n",
    "    \n",
    "    _drug = np.subtract(drug, vehicle_drug)\n",
    "    _cell = np.subtract(cell, vehicle_cell)\n",
    "\n",
    "    inhib = np.divide(_drug, _cell)\n",
    "    \n",
    "    return inhib*100"
   ]
  },
  {
   "cell_type": "code",
   "execution_count": 307,
   "metadata": {},
   "outputs": [
    {
     "data": {
      "text/plain": [
       "(-100, 100)"
      ]
     },
     "execution_count": 307,
     "metadata": {},
     "output_type": "execute_result"
    },
    {
     "data": {
      "image/png": "[encoded data removed]",
      "text/plain": [
       "<Figure size 432x288 with 1 Axes>"
      ]
     },
     "metadata": {},
     "output_type": "display_data"
    }
   ],
   "source": [
    "inf_data = get_dict_from_excel(infected_file, n_plates, n_columns)\n",
    "uninf_data = get_dict_from_excel(uninfected_file, n_plates, n_columns, infected=False)\n",
    "\n",
    "inf_array = np.asarray(inf_data['Plate 1']).T\n",
    "uninf_array = np.asarray(uninf_data['Plate 1']).T\n",
    "plate_0 = np.asarray(uninf_data['Plate 0']).T\n",
    "\n",
    "tox = get_toxicity(inf_array[2], uninf_array[2])\n",
    "inhib = get_inhibition(inf_array[2], uninf_array[2], np.mean(inf_array[9:12], axis=0), np.mean(uninf_array[9:12], axis=0))\n",
    "plt.plot(concentrations, tox, 'ro-')\n",
    "plt.plot(concentrations, inhib, 'bo-')\n",
    "plt.xscale('log')\n",
    "plt.xticks([0.1, 1, 10, 100], [0.1, 1, 10, 100])\n",
    "plt.ylim([-100, 100])"
   ]
  },
  {
   "cell_type": "code",
   "execution_count": 308,
   "metadata": {},
   "outputs": [],
   "source": [
    "def format_plot(xdata, ydata, xlabel=None, ylabel=None, title=None, ylim=None, xticks=None, hlines=None, logx=True):\n",
    "    \n",
    "    label_style = ['large', 'semibold']\n",
    "    marker_style = 'o'\n",
    "    color_order = ['b','r','g']\n",
    "    \n",
    "    plt.figure(figsize=[4.8, 4.8])\n",
    "    plt.hlines(hlines, xticks[0], xticks[-1], linestyle=':')    \n",
    "    \n",
    "    if ydata.ndim==2:       \n",
    "        for y in ydata:\n",
    "            plt.plot(xdata, y, marker=marker_style)\n",
    "    else:\n",
    "        plt.plot(xdata, ydata, marker=marker_style, color='b')\n",
    "    \n",
    "    if logx:\n",
    "        plt.xscale('log')\n",
    "        \n",
    "        \n",
    "    plt.xlabel(xlabel, fontsize=label_style[0], fontweight=label_style[1])\n",
    "    plt.ylabel(ylabel, fontsize=label_style[0], fontweight=label_style[1])\n",
    "            \n",
    "    plt.tick_params(direction='in')\n",
    "    plt.xticks(xticks, xticks)\n"
   ]
  },
  {
   "cell_type": "code",
   "execution_count": 311,
   "metadata": {
    "scrolled": true
   },
   "outputs": [
    {
     "data": {
      "image/png": "[encoded data removed]",
      "text/plain": [
       "<Figure size 345.6x345.6 with 1 Axes>"
      ]
     },
     "metadata": {},
     "output_type": "display_data"
    }
   ],
   "source": [
    "format_plot(concentrations, tox, xlabel='Concentration (uM)', ylabel='% toxicity', xticks=[0.1,1,10,100], hlines=[0,50,100])"
   ]
  },
  {
   "cell_type": "code",
   "execution_count": 158,
   "metadata": {},
   "outputs": [],
   "source": [
    "def subtract_by_dmso(data_averaged, n_plates, infected=True):\n",
    "    \n",
    "    if not infected:\n",
    "        _n_plates = n_plates+1\n",
    "    else:\n",
    "        _n_plates = n_plates\n",
    "    \n",
    "    data_dmso_norm = {}\n",
    "    \n",
    "    for plate in range(_n_plates):\n",
    "        \n",
    "        if not infected:\n",
    "            _plate = plate\n",
    "        else:\n",
    "            _plate = plate+1\n",
    "        \n",
    "        df = data_averaged[f'Plate {_plate}']\n",
    "        data_dmso_norm[f'Plate {_plate}'] = df.iloc[:,:].subtract(data_averaged[f'Plate {_plate}'].loc[:,9:11].T.mean(), axis=0)\n",
    "        \n",
    "    return data_dmso_norm"
   ]
  },
  {
   "cell_type": "code",
   "execution_count": 157,
   "metadata": {},
   "outputs": [
    {
     "data": {
      "text/plain": [
       "50.000000    2.110598e+07\n",
       "25.000000    2.525130e+07\n",
       "12.500000    2.055371e+07\n",
       "6.250000     1.989877e+07\n",
       "3.125000     2.404221e+07\n",
       "1.562500     2.057708e+07\n",
       "0.781250     1.988310e+07\n",
       "0.390625     1.635824e+07\n",
       "dtype: float64"
      ]
     },
     "execution_count": 157,
     "metadata": {},
     "output_type": "execute_result"
    }
   ],
   "source": [
    "inf_data['Plate 1'].loc[:,9:11].T.mean()"
   ]
  },
  {
   "cell_type": "code",
   "execution_count": 162,
   "metadata": {},
   "outputs": [],
   "source": [
    "test = subtract_by_dmso(inf_data, n_plates)\n",
    "test_uninf = subtract_by_dmso(uninf_data, n_plates, infected=False)\n",
    "test_av = do_triplicate_averaging(test, n_columns, n_repeats, n_plates)\n",
    "test_av_uninf = do_triplicate_averaging(test_uninf, n_columns, n_repeats, n_plates, infected=False)"
   ]
  },
  {
   "cell_type": "code",
   "execution_count": 168,
   "metadata": {},
   "outputs": [],
   "source": [
    "test_array = np.asarray(test_av['Plate 1']).T\n",
    "test_array_uninf = np.asarray(test_av_uninf['Plate 1']).T\n",
    "div = np.divide(test_array, test_array_uninf)"
   ]
  },
  {
   "cell_type": "code",
   "execution_count": 171,
   "metadata": {},
   "outputs": [
    {
     "data": {
      "text/plain": [
       "array([[ 1.64282052e+02,  6.23414262e+01,  2.22300469e+02,\n",
       "         1.56697959e+02, -1.03874981e+02, -6.80781117e+01,\n",
       "        -1.21595836e+02, -2.32814250e+01],\n",
       "       [-1.23472742e+03,  1.94111554e+02,  2.51485347e+02,\n",
       "         6.44825076e+01, -8.05501619e+01, -5.59267283e+01,\n",
       "        -4.20618450e+01,  5.10375219e+00],\n",
       "       [-1.72831473e+01,  5.19415029e+03,  4.91615344e+02,\n",
       "         5.98474993e+02,  2.27289404e+02,  2.18765170e+02,\n",
       "         1.18523061e+02,  1.69999300e+02],\n",
       "       [ 5.00000000e+01, -5.00000000e+01, -3.33333333e+01,\n",
       "        -2.50000000e+02,  2.00000000e+02,  1.00000000e+02,\n",
       "        -2.00000000e+02, -7.50000000e+01]])"
      ]
     },
     "execution_count": 171,
     "metadata": {},
     "output_type": "execute_result"
    }
   ],
   "source": [
    "div*100"
   ]
  },
  {
   "cell_type": "code",
   "execution_count": null,
   "metadata": {},
   "outputs": [],
   "source": []
  }
 ],
 "metadata": {
  "kernelspec": {
   "display_name": "Python 3",
   "language": "python",
   "name": "python3"
  },
  "language_info": {
   "codemirror_mode": {
    "name": "ipython",
    "version": 3
   },
   "file_extension": ".py",
   "mimetype": "text/x-python",
   "name": "python",
   "nbconvert_exporter": "python",
   "pygments_lexer": "ipython3",
   "version": "3.6.6"
  }
 },
 "nbformat": 4,
 "nbformat_minor": 2
}
