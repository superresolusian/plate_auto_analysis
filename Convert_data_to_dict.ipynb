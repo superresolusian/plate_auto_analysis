{
 "cells": [
  {
   "cell_type": "markdown",
   "metadata": {},
   "source": [
    "## Import"
   ]
  },
  {
   "cell_type": "code",
   "execution_count": null,
   "metadata": {},
   "outputs": [],
   "source": [
    "import pandas as pd\n",
    "import xlrd\n",
    "import numpy as np\n",
    "import matplotlib.pyplot as plt\n",
    "import csv\n",
    "import scipy.optimize as opt"
   ]
  },
  {
   "cell_type": "markdown",
   "metadata": {},
   "source": [
    "## File name and experiment set-up"
   ]
  },
  {
   "cell_type": "code",
   "execution_count": null,
   "metadata": {
    "scrolled": true
   },
   "outputs": [],
   "source": [
    "inhib_file = r'data\\MOI 0.01 drug screen 2.xlsx'\n",
    "tox_file = r'data\\Uninfected nCoV drug screen 2.xlsx'\n",
    "save_folder = r'out'\n",
    "n_plates = 7\n",
    "n_columns = 12\n",
    "n_repeats = 3\n",
    "n_concentrations = 8\n",
    "start_concentration = 50"
   ]
  },
  {
   "cell_type": "markdown",
   "metadata": {},
   "source": [
    "## Names of compounds"
   ]
  },
  {
   "cell_type": "code",
   "execution_count": null,
   "metadata": {},
   "outputs": [],
   "source": [
    "plate = {} # <--- don't change this line!\n",
    "# format is plate[number]= ['Compound1', 'Compound2', 'Compound 3']\n",
    "# e.g. plate[1] = ['FD', 'BM', 'AH']\n",
    "# don't worry about dmso, that's already taken care of :)\n",
    "plate[1] = ['FD', 'BM', 'AH']\n",
    "plate[2] = ['CH', 'TC', 'AD']\n",
    "plate[3] = ['TM', 'MH', 'T']\n",
    "plate[4] = ['TV', 'A', 'GH']\n",
    "plate[5] = ['IM', 'F', 'CH']\n",
    "plate[6] = ['HS', 'PH', 'ED']\n",
    "plate[7] = ['CP', 'TaC', 'H2O']\n",
    "#\n",
    "plate_names = plate"
   ]
  },
  {
   "cell_type": "markdown",
   "metadata": {},
   "source": [
    "## Prepare array of concentrations"
   ]
  },
  {
   "cell_type": "code",
   "execution_count": null,
   "metadata": {},
   "outputs": [],
   "source": [
    "concentrations = []\n",
    "concentrations.append(start_concentration)\n",
    "for i in range(1, n_concentrations):\n",
    "    concentrations.append(concentrations[i-1]/2)"
   ]
  },
  {
   "cell_type": "markdown",
   "metadata": {},
   "source": [
    "## Function to read data from excel file into nice dictionary of dataframes"
   ]
  },
  {
   "cell_type": "code",
   "execution_count": null,
   "metadata": {},
   "outputs": [],
   "source": [
    "def get_dict_from_excel(filename, n_plates, n_columns, inhib=True):\n",
    "    \n",
    "    if not inhib:\n",
    "        _n_plates = n_plates+1\n",
    "    else:\n",
    "        _n_plates = n_plates\n",
    "    \n",
    "    start_identifier = 'Plate:'\n",
    "    end_identifier = '~End'\n",
    "    \n",
    "    book = xlrd.open_workbook(filename=filename)\n",
    "    sheet = book.sheet_by_index(0)\n",
    "    row_titles = sheet.col_values(0)\n",
    "    \n",
    "    start_indices = []\n",
    "    end_indices = []\n",
    "    \n",
    "    for i in range(len(row_titles)):\n",
    "        row_title = row_titles[i]\n",
    "        if row_title==start_identifier:\n",
    "            start_indices.append(i)\n",
    "        elif row_title==end_identifier:\n",
    "            end_indices.append(i)\n",
    "    \n",
    "    data = {}\n",
    "    \n",
    "    for plate in range(_n_plates):\n",
    "        \n",
    "        vals = []\n",
    "        start = start_indices[plate]+2\n",
    "        end = end_indices[plate]-1\n",
    "        \n",
    "        for col in range(2, 2+n_columns):\n",
    "            cells = sheet.col_slice(col, start, end)\n",
    "            for cell in cells:\n",
    "                vals.append(cell.value)\n",
    "        \n",
    "        vals = np.reshape(vals, (n_columns, end-start)).T\n",
    "        df = pd.DataFrame(data=vals)\n",
    "        \n",
    "        for i in range(n_concentrations):\n",
    "            df.rename(index={i:concentrations[i]}, inplace=True)\n",
    "           \n",
    "        if not inhib:\n",
    "            _plate = plate\n",
    "        else:\n",
    "            _plate = plate+1\n",
    "        \n",
    "        data[f'Plate {_plate}'] = df\n",
    "        \n",
    "    return data"
   ]
  },
  {
   "cell_type": "markdown",
   "metadata": {},
   "source": [
    "## Function to do averaging of repeats"
   ]
  },
  {
   "cell_type": "code",
   "execution_count": null,
   "metadata": {},
   "outputs": [],
   "source": [
    "def do_repeat_averaging(df, n_repeats):\n",
    "    \n",
    "    n_columns = len(df.columns)\n",
    "    col_names = df.columns\n",
    "    \n",
    "    n_samples = int(n_columns/n_repeats)\n",
    "    \n",
    "    df_averaged = pd.DataFrame()\n",
    "       \n",
    "    for n in range(n_samples):\n",
    "        i = n*n_repeats\n",
    "        j = (n+1)*n_repeats-1\n",
    "        \n",
    "        drug = col_names[i][:-2]\n",
    "\n",
    "        _i = col_names[i]\n",
    "        _j = col_names[j]\n",
    "        av_col = df.loc[:,_i:_j].T.mean()\n",
    "        std_col = df.loc[:,_i:_j].T.std()\n",
    "        df_averaged[f'Mean {drug}'] = av_col\n",
    "        df_averaged[f'Std {drug}'] = std_col\n",
    "\n",
    "    return df_averaged"
   ]
  },
  {
   "cell_type": "markdown",
   "metadata": {},
   "source": [
    "## Functions for toxicity and inhibition calculation"
   ]
  },
  {
   "cell_type": "code",
   "execution_count": null,
   "metadata": {},
   "outputs": [],
   "source": [
    "def get_toxicity(drug, cell, blank=0):\n",
    "    \n",
    "    _drug = np.subtract(drug, blank)\n",
    "    _cell = np.subtract(cell, blank)\n",
    "\n",
    "    tox = 1 - np.divide(_drug, _cell)\n",
    "    \n",
    "    return tox*100"
   ]
  },
  {
   "cell_type": "code",
   "execution_count": null,
   "metadata": {},
   "outputs": [],
   "source": [
    "def get_inhibition(drug, cell, vehicle):\n",
    "    \n",
    "    _drug = np.subtract(drug, vehicle)\n",
    "    _cell = np.subtract(cell, vehicle)\n",
    "\n",
    "    inhib = np.divide(_drug, _cell)\n",
    "    \n",
    "    return inhib*100"
   ]
  },
  {
   "cell_type": "code",
   "execution_count": null,
   "metadata": {},
   "outputs": [],
   "source": [
    "def get_tox_and_inhib_for_plate(inhib_data, tox_data, plate_number, plate_names, n_repeats, concentrations):\n",
    "    plate_key = f'Plate {plate_number}'\n",
    "    drug_names = plate_names[plate_number]\n",
    "    n_drugs = len(drug_names)\n",
    "    n_concentrations = len(concentrations)\n",
    "    \n",
    "    plate_0 = np.asarray(tox_data['Plate 0']).T\n",
    "    inhib_array = np.asarray(inhib_data[plate_key]).T\n",
    "    tox_array = np.asarray(tox_data[plate_key]).T\n",
    "    \n",
    "    cell = np.mean(plate_0)\n",
    "    vehicle = np.mean(inhib_array[9:12], axis=0)\n",
    "    \n",
    "    df_inhib = pd.DataFrame()\n",
    "    df_tox = pd.DataFrame()\n",
    "\n",
    "    \n",
    "    for d in range(n_drugs):\n",
    "        drug = drug_names[d]\n",
    "        \n",
    "        for r in range(n_repeats):\n",
    "            i = d*n_repeats + r\n",
    "\n",
    "            tox = get_toxicity(tox_array[i], cell)\n",
    "            inhib = get_inhibition(inhib_array[i], cell, vehicle)\n",
    "            \n",
    "            df_inhib[f'{drug}-{r+1}'] = inhib\n",
    "            df_tox[f'{drug}-{r+1}'] = tox\n",
    "           \n",
    "    return df_tox, df_inhib        "
   ]
  },
  {
   "cell_type": "markdown",
   "metadata": {},
   "source": [
    "## Logistic fitting"
   ]
  },
  {
   "cell_type": "code",
   "execution_count": null,
   "metadata": {},
   "outputs": [],
   "source": [
    "def logistic_function(x_vals, top, logEC50, hill_slope):\n",
    "    x_vals = np.array(x_vals)\n",
    "    x_vals = np.log10(x_vals)\n",
    "    bottom = 0\n",
    "    \n",
    "    return bottom + (top-bottom)/(1+np.power(10, (logEC50-x_vals)*hill_slope))\n",
    "\n",
    "\n",
    "def fit_logistic_function(concentrations, responses, verbose=False):\n",
    "    \n",
    "    #x_vals = np.log10(concentrations)\n",
    "    \n",
    "    params = [100, 0.5, 2]\n",
    "    \n",
    "    try:\n",
    "        popt, pcov = opt.curve_fit(logistic_function, concentrations, responses, p0=params)\n",
    "    except:\n",
    "        if verbose:\n",
    "            print('fitting not possible, sorry!')\n",
    "        return 0, 0, 0\n",
    "    \n",
    "    _top = popt[0]\n",
    "    _logEC50 = popt[1]\n",
    "    _hill_slope = popt[2]\n",
    "    \n",
    "    _x_vals = np.linspace(concentrations[0], concentrations[-1], 500)\n",
    "    \n",
    "    fit = logistic_function(_x_vals, _top, _logEC50, _hill_slope)\n",
    "\n",
    "    if verbose:\n",
    "        print(f'Initialised params at: {params}')\n",
    "        print(f'Optimised params at: {popt}')\n",
    "        plt.figure()\n",
    "        plt.plot(concentrations, responses, 'bo', label='raw data')\n",
    "        plt.plot(_x_vals, fit, 'b', label='fit')\n",
    "        plt.xscale('log')\n",
    "    \n",
    "    return _top, _logEC50, _hill_slope"
   ]
  },
  {
   "cell_type": "markdown",
   "metadata": {},
   "source": [
    "## Plotting and fitting functions"
   ]
  },
  {
   "cell_type": "code",
   "execution_count": null,
   "metadata": {},
   "outputs": [],
   "source": [
    "def get_arrays(df, _i, _j):\n",
    "    array = np.asarray(df.loc[:,_i:_j].T)\n",
    "    mean_array = np.mean(array, axis=0)\n",
    "    std_array = np.std(array, axis=0)\n",
    "    array = array.flatten()\n",
    "    \n",
    "    return array, mean_array, std_array\n",
    "        \n",
    "    \n",
    "def plots_and_fits(df_tox, df_inhib, concentrations, n_repeats, plate=None, save_path=None):\n",
    "    n_columns = len(df_tox.columns)\n",
    "    col_names = df_tox.columns\n",
    "    \n",
    "    n_samples = int(n_columns/n_repeats)\n",
    "    concentrations_array = np.tile(concentrations, n_repeats)\n",
    "    \n",
    "    if save_path is not None:\n",
    "        \n",
    "        csvfile = open(f'.\\{save_path}\\Plate_{plate}_fit_params.csv', 'w', newline='')\n",
    "        csvwriter = csv.writer(csvfile, delimiter=',')\n",
    "        csvwriter.writerow(['Drug', 'Top_T', 'LogEC50_T', 'EC50_T', 'HillSlope_T', 'Top_I', 'LogEC50_I', 'EC50_I', 'HillSlope_I'])\n",
    "    \n",
    "       \n",
    "    for n in range(n_samples):\n",
    "        \n",
    "        i = n*n_repeats\n",
    "        j = (n+1)*n_repeats-1\n",
    "        \n",
    "        drug = col_names[i][:-2]\n",
    "\n",
    "        _i = col_names[i]\n",
    "        _j = col_names[j]\n",
    "        \n",
    "        i_array, i_mean_array, i_std_array = get_arrays(df_inhib, _i, _j)\n",
    "        t_array, t_mean_array, t_std_array = get_arrays(df_tox, _i, _j)\n",
    "\n",
    "        i_t, i_e, i_h = fit_logistic_function(concentrations_array, i_array, verbose=False)\n",
    "        t_t, t_e, t_h = fit_logistic_function(concentrations_array, t_array, verbose=False)\n",
    "        \n",
    "        if save_path is not None:\n",
    "            row = [drug, t_t, t_e, 10**t_e, t_h, i_t, i_e, 10**i_e, i_h]\n",
    "            csvwriter.writerow(row)\n",
    "        \n",
    "        \n",
    "        _x = np.linspace(concentrations[0], concentrations[-1], 1000)\n",
    "\n",
    "        plt.figure(figsize=[5,5])\n",
    "        \n",
    "        plt.plot(concentrations_array, i_array, color='skyblue', marker='.', linestyle='')\n",
    "        plt.errorbar(concentrations, i_mean_array, i_std_array, color='skyblue', marker='o', linestyle='', capsize=3)\n",
    "        plt.plot(_x, logistic_function(_x, i_t, i_e, i_h), color='dodgerblue')\n",
    "        \n",
    "        plt.plot(concentrations_array, t_array, color='coral', marker='.', linestyle='')\n",
    "        plt.errorbar(concentrations, t_mean_array, t_std_array, color='coral', marker='o', linestyle='', capsize=3)\n",
    "        plt.plot(_x, logistic_function(_x, t_t, t_e, t_h), color='orangered')\n",
    "        \n",
    "        plt.xscale('log')\n",
    "\n",
    "        plt.ylim([-25, 125])\n",
    "        plt.xlim([0.1, 100])\n",
    "        plt.yticks(np.arange(-25, 125, 25),np.arange(-25, 125, 25))\n",
    "        plt.xticks([0.1, 1, 10, 100], [0.1, 1, 10, 100])\n",
    "        plt.xlabel('Concentration (uM)')\n",
    "        plt.ylabel('Percent (%)')\n",
    "        plt.hlines([0,50,100], 0.1, 100, linestyle=':')\n",
    "        plt.title(drug)\n",
    "        \n",
    "        if save_path is not None:\n",
    "            plt.savefig(f'.\\{save_path}\\Plate_{plate}_plot.png', dpi=300)"
   ]
  },
  {
   "cell_type": "code",
   "execution_count": null,
   "metadata": {
    "scrolled": false
   },
   "outputs": [],
   "source": [
    "inhib_data = get_dict_from_excel(inhib_file, n_plates, n_columns)\n",
    "tox_data = get_dict_from_excel(tox_file, n_plates, n_columns, inhib=False)\n",
    "\n",
    "for plate in range(1, n_plates+1):\n",
    "\n",
    "    df_tox, df_inhib = get_tox_and_inhib_for_plate(inhib_data, tox_data, plate, plate_names, n_repeats, concentrations)\n",
    "\n",
    "    plots_and_fits(df_tox, df_inhib, concentrations, n_repeats, plate=plate, save_path=save_folder)"
   ]
  },
  {
   "cell_type": "code",
   "execution_count": null,
   "metadata": {},
   "outputs": [],
   "source": []
  },
  {
   "cell_type": "code",
   "execution_count": null,
   "metadata": {},
   "outputs": [],
   "source": []
  },
  {
   "cell_type": "code",
   "execution_count": null,
   "metadata": {},
   "outputs": [],
   "source": []
  },
  {
   "cell_type": "code",
   "execution_count": null,
   "metadata": {},
   "outputs": [],
   "source": []
  },
  {
   "cell_type": "code",
   "execution_count": null,
   "metadata": {},
   "outputs": [],
   "source": []
  },
  {
   "cell_type": "code",
   "execution_count": null,
   "metadata": {},
   "outputs": [],
   "source": []
  },
  {
   "cell_type": "code",
   "execution_count": null,
   "metadata": {},
   "outputs": [],
   "source": []
  }
 ],
 "metadata": {
  "kernelspec": {
   "display_name": "Python 3",
   "language": "python",
   "name": "python3"
  },
  "language_info": {
   "codemirror_mode": {
    "name": "ipython",
    "version": 3
   },
   "file_extension": ".py",
   "mimetype": "text/x-python",
   "name": "python",
   "nbconvert_exporter": "python",
   "pygments_lexer": "ipython3",
   "version": "3.6.6"
  }
 },
 "nbformat": 4,
 "nbformat_minor": 2
}
