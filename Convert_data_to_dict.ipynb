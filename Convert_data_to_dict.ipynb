{
 "cells": [
  {
   "cell_type": "markdown",
   "metadata": {},
   "source": [
    "## Import"
   ]
  },
  {
   "cell_type": "code",
   "execution_count": 26,
   "metadata": {},
   "outputs": [],
   "source": [
    "import pandas as pd\n",
    "import xlrd\n",
    "import numpy as np"
   ]
  },
  {
   "cell_type": "markdown",
   "metadata": {},
   "source": [
    "## File name and experiment set-up"
   ]
  },
  {
   "cell_type": "code",
   "execution_count": 48,
   "metadata": {
    "scrolled": true
   },
   "outputs": [],
   "source": [
    "file = r'data\\MOI 0.01 drug screen 2.xlsx'\n",
    "n_plates = 7\n",
    "n_columns = 12\n",
    "n_repeats = 3\n",
    "n_concentrations = 8\n",
    "start_concentration = 50"
   ]
  },
  {
   "cell_type": "markdown",
   "metadata": {},
   "source": [
    "## Read data from excel file into nice dictionary of dataframes"
   ]
  },
  {
   "cell_type": "code",
   "execution_count": 65,
   "metadata": {},
   "outputs": [],
   "source": [
    "book = xlrd.open_workbook(filename=file)\n",
    "sheet = book.sheet_by_index(0)\n",
    "row_titles = sheet.col_values(0)\n",
    "start_identifier = 'Plate:'\n",
    "end_identifier = '~End'\n",
    "\n",
    "concentrations = []\n",
    "concentrations.append(start_concentration)\n",
    "for i in range(1, n_concentrations):\n",
    "    concentrations.append(concentrations[i-1]/2)\n",
    "\n",
    "start_indices = []\n",
    "end_indices = []\n",
    "\n",
    "for i in range(len(row_titles)):\n",
    "    row_title = row_titles[i]\n",
    "    if row_title==start_identifier:\n",
    "        start_indices.append(i)\n",
    "    elif row_title==end_identifier:\n",
    "        end_indices.append(i)\n",
    "\n",
    "data = {}\n",
    "\n",
    "for plate in range(n_plates):\n",
    "    vals = []\n",
    "    start = start_indices[plate]+2\n",
    "    end = end_indices[plate]-1\n",
    "    \n",
    "    for col in range(2, 2+n_columns):\n",
    "        cells = sheet.col_slice(col, start, end)\n",
    "        for cell in cells:\n",
    "            vals.append(cell.value)\n",
    "            \n",
    "\n",
    "    vals = np.reshape(vals, (n_columns, end-start)).T\n",
    "    df = pd.DataFrame(data=vals)\n",
    "    for i in range(n_concentrations):\n",
    "        df.rename(index={i:concentrations[i]}, inplace=True)\n",
    "    data[f'Plate {plate+1}'] = df"
   ]
  },
  {
   "cell_type": "markdown",
   "metadata": {},
   "source": [
    "## Do triplicate averaging"
   ]
  },
  {
   "cell_type": "code",
   "execution_count": 92,
   "metadata": {},
   "outputs": [],
   "source": [
    "data_averaged = {}\n",
    "\n",
    "n_samples = int(n_columns/n_repeats)\n",
    "\n",
    "for plate in range(n_plates):\n",
    "    _plate = plate+1\n",
    "    df = pd.DataFrame()\n",
    "    \n",
    "    for n in range(n_samples):\n",
    "        i = n*n_repeats\n",
    "        j = (n+1)*n_repeats-1\n",
    "        av_col = data[f'Plate {_plate}'].loc[:,i:j].T.mean()\n",
    "        df[n] = av_col\n",
    "        \n",
    "    data_averaged[f'Plate {_plate}'] = df"
   ]
  },
  {
   "cell_type": "markdown",
   "metadata": {},
   "source": [
    "## For each plate, divide through by final column (DMSO)"
   ]
  },
  {
   "cell_type": "code",
   "execution_count": 123,
   "metadata": {},
   "outputs": [],
   "source": [
    "data_dmso_norm = {}\n",
    "\n",
    "for plate in range(n_plates):\n",
    "    df = data_averaged[f'Plate {plate+1}']\n",
    "    data_dmso_norm[f'Plate {plate+1}'] = df.iloc[:,:].div(df[3], axis=0)\n"
   ]
  },
  {
   "cell_type": "code",
   "execution_count": 124,
   "metadata": {},
   "outputs": [
    {
     "data": {
      "text/plain": [
       "{'Plate 1':                   0         1         2    3\n",
       " 50.000000  0.009497  1.894879  1.127979  1.0\n",
       " 25.000000  1.512653  1.409406  1.776586  1.0\n",
       " 12.500000  2.121985  1.515805  1.991296  1.0\n",
       " 6.250000   1.240623  1.108022  1.690663  1.0\n",
       " 3.125000   0.827656  0.895611  1.220886  1.0\n",
       " 1.562500   0.907916  0.966115  1.118834  1.0\n",
       " 0.781250   0.885305  0.940592  1.114223  1.0\n",
       " 0.390625   0.956920  1.008575  1.176975  1.0,\n",
       " 'Plate 2':                   0         1         2    3\n",
       " 50.000000  0.003021  0.003405  1.116282  1.0\n",
       " 25.000000  0.545464  1.432116  1.878885  1.0\n",
       " 12.500000  1.458489  2.130265  1.828639  1.0\n",
       " 6.250000   1.693404  1.426784  1.503221  1.0\n",
       " 3.125000   1.207061  1.184510  1.394173  1.0\n",
       " 1.562500   1.007491  1.086134  1.251092  1.0\n",
       " 0.781250   0.923678  0.967607  1.093037  1.0\n",
       " 0.390625   0.939252  1.078142  1.257334  1.0,\n",
       " 'Plate 3':                   0         1         2    3\n",
       " 50.000000  0.002189  0.006479  0.006960  1.0\n",
       " 25.000000  1.300647  1.285639  1.441168  1.0\n",
       " 12.500000  1.628247  1.601183  2.123517  1.0\n",
       " 6.250000   0.946364  0.950832  1.231683  1.0\n",
       " 3.125000   0.843576  0.677062  0.961152  1.0\n",
       " 1.562500   1.030033  0.798926  0.934181  1.0\n",
       " 0.781250   0.988609  0.985708  1.038560  1.0\n",
       " 0.390625   1.304287  0.977058  1.036348  1.0,\n",
       " 'Plate 4':                   0         1         2    3\n",
       " 50.000000  2.897111  0.231763  1.153041  1.0\n",
       " 25.000000  2.279580  0.253489  1.071360  1.0\n",
       " 12.500000  2.102261  0.469262  0.847189  1.0\n",
       " 6.250000   2.020536  0.610736  0.484234  1.0\n",
       " 3.125000   2.348273  0.763945  0.331530  1.0\n",
       " 1.562500   2.790762  0.826512  0.239401  1.0\n",
       " 0.781250   1.835921  1.023390  0.275942  1.0\n",
       " 0.390625   1.163356  1.067017  0.219399  1.0,\n",
       " 'Plate 5':                   0         1         2    3\n",
       " 50.000000  0.780312  0.003927  0.304795  1.0\n",
       " 25.000000  1.902074  1.752750  1.791882  1.0\n",
       " 12.500000  1.933727  2.751673  1.739228  1.0\n",
       " 6.250000   1.597963  1.891711  1.462741  1.0\n",
       " 3.125000   1.892539  1.764082  1.560046  1.0\n",
       " 1.562500   1.236088  1.073023  1.137868  1.0\n",
       " 0.781250   1.063357  0.957771  1.007692  1.0\n",
       " 0.390625   1.387881  1.458021  1.501679  1.0,\n",
       " 'Plate 6':                   0         1         2    3\n",
       " 50.000000  4.203478  4.297898  1.014599  1.0\n",
       " 25.000000  3.367970  3.996572  1.316706  1.0\n",
       " 12.500000  2.564554  2.633730  1.128426  1.0\n",
       " 6.250000   1.822719  1.503818  1.756116  1.0\n",
       " 3.125000   1.794442  1.464042  1.766722  1.0\n",
       " 1.562500   1.840293  1.785644  1.490565  1.0\n",
       " 0.781250   1.045876  1.001943  0.843009  1.0\n",
       " 0.390625   0.963624  0.988634  0.899062  1.0,\n",
       " 'Plate 7':                   0         1         2    3\n",
       " 50.000000  4.042340  0.452287  1.236241  1.0\n",
       " 25.000000  1.538632  1.502896  1.318475  1.0\n",
       " 12.500000  1.412428  1.357593  1.264683  1.0\n",
       " 6.250000   1.322432  1.465659  1.423734  1.0\n",
       " 3.125000   1.496356  1.490567  1.410657  1.0\n",
       " 1.562500   1.400816  1.445153  1.222147  1.0\n",
       " 0.781250   1.480751  1.449013  1.225990  1.0\n",
       " 0.390625   1.801761  1.684647  1.497278  1.0}"
      ]
     },
     "execution_count": 124,
     "metadata": {},
     "output_type": "execute_result"
    }
   ],
   "source": [
    "data_dmso_norm"
   ]
  },
  {
   "cell_type": "code",
   "execution_count": null,
   "metadata": {},
   "outputs": [],
   "source": []
  }
 ],
 "metadata": {
  "kernelspec": {
   "display_name": "Python 3",
   "language": "python",
   "name": "python3"
  },
  "language_info": {
   "codemirror_mode": {
    "name": "ipython",
    "version": 3
   },
   "file_extension": ".py",
   "mimetype": "text/x-python",
   "name": "python",
   "nbconvert_exporter": "python",
   "pygments_lexer": "ipython3",
   "version": "3.6.6"
  }
 },
 "nbformat": 4,
 "nbformat_minor": 2
}
