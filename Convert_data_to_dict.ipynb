{
 "cells": [
  {
   "cell_type": "markdown",
   "metadata": {},
   "source": [
    "## Import"
   ]
  },
  {
   "cell_type": "code",
   "execution_count": 1,
   "metadata": {},
   "outputs": [],
   "source": [
    "import pandas as pd\n",
    "import xlrd\n",
    "import numpy as np\n",
    "import matplotlib.pyplot as plt"
   ]
  },
  {
   "cell_type": "markdown",
   "metadata": {},
   "source": [
    "## File name and experiment set-up"
   ]
  },
  {
   "cell_type": "code",
   "execution_count": 2,
   "metadata": {
    "scrolled": true
   },
   "outputs": [],
   "source": [
    "infected_file = r'data\\MOI 0.01 drug screen 2.xlsx'\n",
    "uninfected_file = r'data\\Uninfected nCoV drug screen 2.xlsx'\n",
    "n_plates = 7\n",
    "n_columns = 12\n",
    "n_repeats = 3\n",
    "n_concentrations = 8\n",
    "start_concentration = 50"
   ]
  },
  {
   "cell_type": "markdown",
   "metadata": {},
   "source": [
    "## Prepare array of concentrations"
   ]
  },
  {
   "cell_type": "code",
   "execution_count": 17,
   "metadata": {},
   "outputs": [],
   "source": [
    "concentrations = []\n",
    "concentrations.append(start_concentration)\n",
    "for i in range(1, n_concentrations):\n",
    "    concentrations.append(concentrations[i-1]/2)"
   ]
  },
  {
   "cell_type": "markdown",
   "metadata": {},
   "source": [
    "## Read data from excel file into nice dictionary of dataframes"
   ]
  },
  {
   "cell_type": "code",
   "execution_count": 19,
   "metadata": {},
   "outputs": [],
   "source": [
    "def get_dict_from_excel(filename, n_plates, n_columns, infected=True):\n",
    "    \n",
    "    if not infected:\n",
    "        _n_plates = n_plates+1\n",
    "    else:\n",
    "        _n_plates = n_plates\n",
    "    \n",
    "    start_identifier = 'Plate:'\n",
    "    end_identifier = '~End'\n",
    "    \n",
    "    book = xlrd.open_workbook(filename=filename)\n",
    "    sheet = book.sheet_by_index(0)\n",
    "    row_titles = sheet.col_values(0)\n",
    "    \n",
    "    start_indices = []\n",
    "    end_indices = []\n",
    "    \n",
    "    for i in range(len(row_titles)):\n",
    "        row_title = row_titles[i]\n",
    "        if row_title==start_identifier:\n",
    "            start_indices.append(i)\n",
    "        elif row_title==end_identifier:\n",
    "            end_indices.append(i)\n",
    "    \n",
    "    data = {}\n",
    "    \n",
    "    for plate in range(_n_plates):\n",
    "        \n",
    "        vals = []\n",
    "        start = start_indices[plate]+2\n",
    "        end = end_indices[plate]-1\n",
    "        \n",
    "        for col in range(2, 2+n_columns):\n",
    "            cells = sheet.col_slice(col, start, end)\n",
    "            for cell in cells:\n",
    "                vals.append(cell.value)\n",
    "        \n",
    "        vals = np.reshape(vals, (n_columns, end-start)).T\n",
    "        df = pd.DataFrame(data=vals)\n",
    "        \n",
    "        for i in range(n_concentrations):\n",
    "            df.rename(index={i:concentrations[i]}, inplace=True)\n",
    "           \n",
    "        if not infected:\n",
    "            _plate = plate\n",
    "        else:\n",
    "            _plate = plate+1\n",
    "        \n",
    "        data[f'Plate {_plate}'] = df\n",
    "        \n",
    "    return data"
   ]
  },
  {
   "cell_type": "code",
   "execution_count": 22,
   "metadata": {},
   "outputs": [],
   "source": [
    "inf_data = get_dict_from_excel(infected_file, n_plates, n_columns)\n",
    "uninf_data = get_dict_from_excel(uninfected_file, n_plates, n_columns, infected=False)"
   ]
  },
  {
   "cell_type": "markdown",
   "metadata": {},
   "source": [
    "## Do triplicate averaging"
   ]
  },
  {
   "cell_type": "code",
   "execution_count": 26,
   "metadata": {},
   "outputs": [],
   "source": [
    "def do_triplicate_averaging(data, n_columns, n_repeats, n_plates, infected=True):\n",
    "    \n",
    "    if not infected:\n",
    "        _n_plates = n_plates+1\n",
    "    else:\n",
    "        _n_plates = n_plates\n",
    "    \n",
    "    data_averaged = {}\n",
    "    \n",
    "    n_samples = int(n_columns/n_repeats)\n",
    "    \n",
    "    for plate in range(_n_plates):\n",
    "        df = pd.DataFrame()\n",
    "        \n",
    "        if not infected:\n",
    "            _plate = plate\n",
    "        else:\n",
    "            _plate = plate+1\n",
    "        \n",
    "        for n in range(n_samples):\n",
    "            i = n*n_repeats\n",
    "            j = (n+1)*n_repeats-1\n",
    "            \n",
    "            av_col = data[f'Plate {_plate}'].loc[:,i:j].T.mean()\n",
    "            df[n] = av_col\n",
    "        \n",
    "        data_averaged[f'Plate {_plate}'] = df\n",
    "    \n",
    "    return data_averaged"
   ]
  },
  {
   "cell_type": "code",
   "execution_count": 31,
   "metadata": {},
   "outputs": [],
   "source": [
    "inf_data_averaged = do_triplicate_averaging(inf_data, n_columns, n_repeats, n_plates)\n",
    "uninf_data_averaged = do_triplicate_averaging(uninf_data, n_columns, n_repeats, n_plates, infected=False)"
   ]
  },
  {
   "cell_type": "markdown",
   "metadata": {},
   "source": [
    "## DMSO normalisations"
   ]
  },
  {
   "cell_type": "code",
   "execution_count": 48,
   "metadata": {},
   "outputs": [],
   "source": [
    "def divide_by_dmso(data_averaged, n_plates, infected=True):\n",
    "    \n",
    "    if not infected:\n",
    "        _n_plates = n_plates+1\n",
    "    else:\n",
    "        _n_plates = n_plates\n",
    "    \n",
    "    data_dmso_norm = {}\n",
    "\n",
    "    for plate in range(_n_plates):\n",
    "        \n",
    "        if not infected:\n",
    "            _plate = plate\n",
    "        else:\n",
    "            _plate = plate+1\n",
    "        \n",
    "        df = data_averaged[f'Plate {_plate}']\n",
    "        data_dmso_norm[f'Plate {_plate}'] = df.iloc[:,:].div(df[3], axis=0)\n",
    "        \n",
    "    return data_dmso_norm\n",
    "\n",
    "def subtract_by_dmso(data_averaged, n_plates, infected=True):\n",
    "    \n",
    "    if not infected:\n",
    "        _n_plates = n_plates+1\n",
    "    else:\n",
    "        _n_plates = n_plates\n",
    "    \n",
    "    data_dmso_norm = {}\n",
    "\n",
    "    for plate in range(_n_plates):\n",
    "        \n",
    "        if not infected:\n",
    "            _plate = plate\n",
    "        else:\n",
    "            _plate = plate+1\n",
    "        \n",
    "        df = data_averaged[f'Plate {_plate}']\n",
    "        data_dmso_norm[f'Plate {_plate}'] = df.iloc[:,:].subtract(df[3], axis=0)\n",
    "        \n",
    "    return data_dmso_norm"
   ]
  },
  {
   "cell_type": "code",
   "execution_count": 52,
   "metadata": {},
   "outputs": [],
   "source": [
    "inf_data_dmso_div = divide_by_dmso(inf_data_averaged, n_plates)\n",
    "uninf_data_dmso_div = divide_by_dmso(uninf_data_averaged, n_plates, infected=False)\n",
    "inf_data_dmso_sub = subtract_by_dmso(inf_data_averaged, n_plates)\n",
    "uninf_data_dmso_sub = subtract_by_dmso(uninf_data_averaged, n_plates, infected=False)"
   ]
  },
  {
   "cell_type": "markdown",
   "metadata": {},
   "source": [
    "## Calculate % inhibition"
   ]
  },
  {
   "cell_type": "code",
   "execution_count": 53,
   "metadata": {},
   "outputs": [],
   "source": [
    "inf_plate = inf_data_dmso_div['Plate 1']\n",
    "uninf_plate = uninf_data_dmso_div['Plate 1']\n",
    "\n",
    "inf_array = np.asarray(inf_plate).T\n",
    "uninf_array = np.asarray(uninf_plate).T\n",
    "\n",
    "inhib = np.divide(inf_array, uninf_array)\n",
    "inhib = np.multiply(inhib, 100)"
   ]
  },
  {
   "cell_type": "code",
   "execution_count": 54,
   "metadata": {},
   "outputs": [
    {
     "data": {
      "text/html": [
       "<div>\n",
       "<style scoped>\n",
       "    .dataframe tbody tr th:only-of-type {\n",
       "        vertical-align: middle;\n",
       "    }\n",
       "\n",
       "    .dataframe tbody tr th {\n",
       "        vertical-align: top;\n",
       "    }\n",
       "\n",
       "    .dataframe thead th {\n",
       "        text-align: right;\n",
       "    }\n",
       "</style>\n",
       "<table border=\"1\" class=\"dataframe\">\n",
       "  <thead>\n",
       "    <tr style=\"text-align: right;\">\n",
       "      <th></th>\n",
       "      <th>0</th>\n",
       "      <th>1</th>\n",
       "      <th>2</th>\n",
       "      <th>3</th>\n",
       "    </tr>\n",
       "  </thead>\n",
       "  <tbody>\n",
       "    <tr>\n",
       "      <th>50.000000</th>\n",
       "      <td>0.009497</td>\n",
       "      <td>1.894879</td>\n",
       "      <td>1.127979</td>\n",
       "      <td>1.0</td>\n",
       "    </tr>\n",
       "    <tr>\n",
       "      <th>25.000000</th>\n",
       "      <td>1.512653</td>\n",
       "      <td>1.409406</td>\n",
       "      <td>1.776586</td>\n",
       "      <td>1.0</td>\n",
       "    </tr>\n",
       "    <tr>\n",
       "      <th>12.500000</th>\n",
       "      <td>2.121985</td>\n",
       "      <td>1.515805</td>\n",
       "      <td>1.991296</td>\n",
       "      <td>1.0</td>\n",
       "    </tr>\n",
       "    <tr>\n",
       "      <th>6.250000</th>\n",
       "      <td>1.240623</td>\n",
       "      <td>1.108022</td>\n",
       "      <td>1.690663</td>\n",
       "      <td>1.0</td>\n",
       "    </tr>\n",
       "    <tr>\n",
       "      <th>3.125000</th>\n",
       "      <td>0.827656</td>\n",
       "      <td>0.895611</td>\n",
       "      <td>1.220886</td>\n",
       "      <td>1.0</td>\n",
       "    </tr>\n",
       "    <tr>\n",
       "      <th>1.562500</th>\n",
       "      <td>0.907916</td>\n",
       "      <td>0.966115</td>\n",
       "      <td>1.118834</td>\n",
       "      <td>1.0</td>\n",
       "    </tr>\n",
       "    <tr>\n",
       "      <th>0.781250</th>\n",
       "      <td>0.885305</td>\n",
       "      <td>0.940592</td>\n",
       "      <td>1.114223</td>\n",
       "      <td>1.0</td>\n",
       "    </tr>\n",
       "    <tr>\n",
       "      <th>0.390625</th>\n",
       "      <td>0.956920</td>\n",
       "      <td>1.008575</td>\n",
       "      <td>1.176975</td>\n",
       "      <td>1.0</td>\n",
       "    </tr>\n",
       "  </tbody>\n",
       "</table>\n",
       "</div>"
      ],
      "text/plain": [
       "                  0         1         2    3\n",
       "50.000000  0.009497  1.894879  1.127979  1.0\n",
       "25.000000  1.512653  1.409406  1.776586  1.0\n",
       "12.500000  2.121985  1.515805  1.991296  1.0\n",
       "6.250000   1.240623  1.108022  1.690663  1.0\n",
       "3.125000   0.827656  0.895611  1.220886  1.0\n",
       "1.562500   0.907916  0.966115  1.118834  1.0\n",
       "0.781250   0.885305  0.940592  1.114223  1.0\n",
       "0.390625   0.956920  1.008575  1.176975  1.0"
      ]
     },
     "execution_count": 54,
     "metadata": {},
     "output_type": "execute_result"
    }
   ],
   "source": [
    "inf_plate"
   ]
  },
  {
   "cell_type": "code",
   "execution_count": 55,
   "metadata": {},
   "outputs": [
    {
     "data": {
      "text/html": [
       "<div>\n",
       "<style scoped>\n",
       "    .dataframe tbody tr th:only-of-type {\n",
       "        vertical-align: middle;\n",
       "    }\n",
       "\n",
       "    .dataframe tbody tr th {\n",
       "        vertical-align: top;\n",
       "    }\n",
       "\n",
       "    .dataframe thead th {\n",
       "        text-align: right;\n",
       "    }\n",
       "</style>\n",
       "<table border=\"1\" class=\"dataframe\">\n",
       "  <thead>\n",
       "    <tr style=\"text-align: right;\">\n",
       "      <th></th>\n",
       "      <th>0</th>\n",
       "      <th>1</th>\n",
       "      <th>2</th>\n",
       "      <th>3</th>\n",
       "    </tr>\n",
       "  </thead>\n",
       "  <tbody>\n",
       "    <tr>\n",
       "      <th>50.000000</th>\n",
       "      <td>0.631379</td>\n",
       "      <td>0.955689</td>\n",
       "      <td>0.547280</td>\n",
       "      <td>1.0</td>\n",
       "    </tr>\n",
       "    <tr>\n",
       "      <th>25.000000</th>\n",
       "      <td>1.663929</td>\n",
       "      <td>1.170285</td>\n",
       "      <td>1.012071</td>\n",
       "      <td>1.0</td>\n",
       "    </tr>\n",
       "    <tr>\n",
       "      <th>12.500000</th>\n",
       "      <td>1.323861</td>\n",
       "      <td>1.131609</td>\n",
       "      <td>1.129387</td>\n",
       "      <td>1.0</td>\n",
       "    </tr>\n",
       "    <tr>\n",
       "      <th>6.250000</th>\n",
       "      <td>1.096840</td>\n",
       "      <td>1.105646</td>\n",
       "      <td>1.072778</td>\n",
       "      <td>1.0</td>\n",
       "    </tr>\n",
       "    <tr>\n",
       "      <th>3.125000</th>\n",
       "      <td>1.128027</td>\n",
       "      <td>1.100001</td>\n",
       "      <td>1.074990</td>\n",
       "      <td>1.0</td>\n",
       "    </tr>\n",
       "    <tr>\n",
       "      <th>1.562500</th>\n",
       "      <td>1.087247</td>\n",
       "      <td>1.039081</td>\n",
       "      <td>1.035038</td>\n",
       "      <td>1.0</td>\n",
       "    </tr>\n",
       "    <tr>\n",
       "      <th>0.781250</th>\n",
       "      <td>1.061276</td>\n",
       "      <td>1.091753</td>\n",
       "      <td>1.062606</td>\n",
       "      <td>1.0</td>\n",
       "    </tr>\n",
       "    <tr>\n",
       "      <th>0.390625</th>\n",
       "      <td>1.099908</td>\n",
       "      <td>1.090711</td>\n",
       "      <td>1.056209</td>\n",
       "      <td>1.0</td>\n",
       "    </tr>\n",
       "  </tbody>\n",
       "</table>\n",
       "</div>"
      ],
      "text/plain": [
       "                  0         1         2    3\n",
       "50.000000  0.631379  0.955689  0.547280  1.0\n",
       "25.000000  1.663929  1.170285  1.012071  1.0\n",
       "12.500000  1.323861  1.131609  1.129387  1.0\n",
       "6.250000   1.096840  1.105646  1.072778  1.0\n",
       "3.125000   1.128027  1.100001  1.074990  1.0\n",
       "1.562500   1.087247  1.039081  1.035038  1.0\n",
       "0.781250   1.061276  1.091753  1.062606  1.0\n",
       "0.390625   1.099908  1.090711  1.056209  1.0"
      ]
     },
     "execution_count": 55,
     "metadata": {},
     "output_type": "execute_result"
    }
   ],
   "source": [
    "uninf_plate"
   ]
  },
  {
   "cell_type": "code",
   "execution_count": null,
   "metadata": {},
   "outputs": [],
   "source": []
  }
 ],
 "metadata": {
  "kernelspec": {
   "display_name": "Python 3",
   "language": "python",
   "name": "python3"
  },
  "language_info": {
   "codemirror_mode": {
    "name": "ipython",
    "version": 3
   },
   "file_extension": ".py",
   "mimetype": "text/x-python",
   "name": "python",
   "nbconvert_exporter": "python",
   "pygments_lexer": "ipython3",
   "version": "3.6.6"
  }
 },
 "nbformat": 4,
 "nbformat_minor": 2
}
